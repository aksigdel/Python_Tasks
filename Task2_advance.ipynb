{
  "nbformat": 4,
  "nbformat_minor": 0,
  "metadata": {
    "colab": {
      "provenance": []
    },
    "kernelspec": {
      "name": "python3",
      "display_name": "Python 3"
    },
    "language_info": {
      "name": "python"
    }
  },
  "cells": [
    {
      "cell_type": "markdown",
      "source": [
        "File Handling"
      ],
      "metadata": {
        "id": "zB7VQYymLS6r"
      }
    },
    {
      "cell_type": "code",
      "execution_count": 2,
      "metadata": {
        "id": "TCTWKrtg0Em0"
      },
      "outputs": [],
      "source": [
        "f = open(\"sample_data/test.txt\")    # open file in current directory\n",
        "f = open(\"sample_data/test.txt\")      # equivalent to 'r' or 'rt'\n",
        "f = open(\"sample_data/test.txt\",'w')  # write in text mode\n",
        "f = open(\"sample_data/test.txt\", mode='r', encoding='utf-8') #specifing encoding type\n",
        "\n",
        "f.close() # closing file\n",
        "# exception occurs when we are performing some operation with the file\n",
        "# safer way is to use a try...finally block\n",
        "try:\n",
        "   f = open(\"sample_data/test.txt\", encoding = 'utf-8')\n",
        "   # perform file operations\n",
        "finally:\n",
        "   f.close()\n",
        "# best way to close a file is by using the with statement\n",
        "# we don't need to explicitly call the close() method. It is done internally\n",
        "'''\n",
        "with open(\"sample_data/test.txt\", encoding = 'utf-8') as f:\n",
        "   # perform file operations\n",
        "'''\n",
        "with open(\"sample_data/test.txt\", mode = 'w', encoding = 'utf-8') as f:\n",
        "    f.write(\"Batman is superhero\\n\")\n",
        "    f.write(\"Superman is also superhero\\n\")\n",
        "    f.write(\"Batman V Superman\\n\")\n",
        "\n",
        "# reading from a file\n",
        "\n",
        "f = open(\"sample_data/test.txt\", mode = 'r', encoding = 'utf-8') # opening in read mode\n",
        "print(f.read(6))\n",
        "f.seek(0) \n",
        "print(f.read())\n",
        "f.read() # '' i.e. empty string\n",
        "\n",
        "# appending to files\n",
        "with open(\"sample_data/test.txt\",\"a\") as f:\n",
        "    f.write(\"Who wins?\")\n",
        "\n",
        "f = open(\"sample_data/test.txt\", mode = 'r', encoding = 'utf-8')  \n",
        "f.seek(0)\n",
        "for line in f:\n",
        "    print(line, end = '')  "
      ]
    },
    {
      "cell_type": "markdown",
      "source": [
        "Iterators"
      ],
      "metadata": {
        "id": "f8_xYQSjLZYz"
      }
    },
    {
      "cell_type": "code",
      "source": [
        "# Iterators are objects that can be iterated upon. \n",
        "# An object which will return data, one element at a time. \n",
        "# Python iterator object must implement two special methods, __iter__() and __next__().\n",
        "# define a list\n",
        "my_list = [4, 7, 0, 3]\n",
        "my_iter = iter(my_list)\n",
        "print(next(my_iter)) # Output: 4\n",
        "print(next(my_iter)) # Output: 7\n",
        "print(my_iter.__next__()) # Output: 0\n",
        "print(my_iter.__next__()) # Output: 3\n",
        "\n",
        "# next(my_iter)  This will raise error, no items left\n",
        "\n",
        "#iterating using loop\n",
        "for element in my_list:\n",
        "       print(element)\n",
        "\n",
        "try:\n",
        "    print(my_iter.__next__())\n",
        "except StopIteration: # no another element in the list, it throws StopIteration exception\n",
        "    print(\"Iteration over\")\n",
        "\n",
        "#custom iterator\n",
        "class PowTwo:\n",
        "    \"\"\"Class to implement an iterator of powers of two\"\"\"\n",
        "    def __init__(self, max=0):\n",
        "        self.max = max\n",
        "    def __iter__(self):\n",
        "        self.n = 0\n",
        "        return self\n",
        "    def __next__(self):\n",
        "        if self.n <= self.max:\n",
        "            result = 2 ** self.n\n",
        "            self.n += 1\n",
        "            return result\n",
        "        else:\n",
        "            raise StopIteration\n",
        "numbers = PowTwo(3)\n",
        "i = iter(numbers)\n",
        "print(next(i)) # op: 1\n",
        "print(next(i)) # op: 2\n",
        "print(next(i)) # op: 4\n",
        "print(next(i)) # op: 8\n",
        "try:\n",
        "    print(next(i))  # no another element in the list, it throws StopIteration exception\n",
        "except StopIteration:\n",
        "    print(\"Iteration Stops\") "
      ],
      "metadata": {
        "id": "johkZ_vx1eSz"
      },
      "execution_count": null,
      "outputs": []
    },
    {
      "cell_type": "markdown",
      "source": [
        "Decorators (Basic)"
      ],
      "metadata": {
        "id": "ZlM3Vo-QOa13"
      }
    },
    {
      "cell_type": "code",
      "source": [
        "'''\n",
        "  Decorators are the function that takes function as an argument and \n",
        "  return another function by adding some extra functionality to the original function.\n",
        "  @ is python decorator.\n",
        "'''\n",
        "def greeting(func):\n",
        "    def inner_func():  \n",
        "        print(\"This is now decorated\")                   \n",
        "        func()\n",
        "    return inner_func\n",
        "'''\n",
        "  def greet():\n",
        "    print(\"Hello\")\n",
        "  greet = greeting(greet)\n",
        "  greet()\n",
        "'''\n",
        "@greeting\n",
        "def greet():\n",
        "    print(\"Hello\")\n",
        "greet()\n",
        "\n",
        "# Decorator with parameters\n",
        "# TO pass the argument to decorator , args and kwargs are used. \n",
        "def greeting(func):\n",
        "    def inner_func(*args, **kwargs):  \n",
        "        print(\"This is now decorated\")                   \n",
        "        func(*args, **kwargs)\n",
        "    return inner_func\n",
        "@greeting\n",
        "def greet(name):\n",
        "    print(\"Hello\", name)\n",
        "greet(\"Ram\")"
      ],
      "metadata": {
        "id": "Q6U9LTYB1uFk"
      },
      "execution_count": null,
      "outputs": []
    },
    {
      "cell_type": "markdown",
      "source": [
        "List Comprehension"
      ],
      "metadata": {
        "id": "nEScPWoqjlVb"
      }
    },
    {
      "cell_type": "code",
      "source": [
        "#loop\n",
        "squares = []\n",
        "for n in range(10):\n",
        "    squares.append(n**2)\n",
        "print(squares)\n",
        "#list comprehension\n",
        "squares = [n**2 for n in range(10)]\n",
        "print(squares)\n",
        "\n",
        "#Iterating Using for Loop\n",
        "planets = ['Mercury', 'Venus', 'Earth', 'Mars', 'Jupiter', 'Saturn', 'Uranus', 'Neptune']\n",
        "for planet in planets:\n",
        "    print(planet, end=' ') # print all on same line\n",
        "#Iterating Using List Comprehension\n",
        "short_planets = [planet for planet in planets if len(planet) < 6]\n",
        "print(\"\\n\")\n",
        "print(short_planets)\n",
        "\n",
        "#Using if with List Comprehension\n",
        "number_list = [ x for x in range(20) if x % 2 == 0]\n",
        "print(number_list)\n",
        "#Nested IF with List Comprehension\n",
        "num_list = [y for y in range(100) if y % 2 == 0 if y % 5 == 0]\n",
        "print(num_list)\n",
        "# if...else With List Comprehension\n",
        "obj = [\"Even\" if i%2==0 else \"Odd\" for i in range(10)]\n",
        "print(obj)\n"
      ],
      "metadata": {
        "id": "hd9ZShYLjlFt"
      },
      "execution_count": null,
      "outputs": []
    },
    {
      "cell_type": "markdown",
      "source": [
        "Dictionary Comprehension"
      ],
      "metadata": {
        "id": "LdQ0eFoQmR8z"
      }
    },
    {
      "cell_type": "code",
      "source": [
        "#dictionary\n",
        "square_dict = dict()\n",
        "for num in range(1, 11):\n",
        "    square_dict[num] = num*num\n",
        "print(square_dict)\n",
        "# dictionary comprehension example\n",
        "square_dict = {num: num*num for num in range(1, 11)}\n",
        "print(square_dict)\n",
        "\n",
        "#item price in dollars\n",
        "old_price = {'milk': 1.02, 'coffee': 2.5, 'bread': 2.5}\n",
        "dollar_to_pound = 0.76\n",
        "new_price = {item: value*dollar_to_pound for (item, value) in old_price.items()}\n",
        "print(new_price)\n",
        "#If Conditional Dictionary Comprehension\n",
        "original_dict = {'jack': 38, 'michael': 48, 'guido': 57, 'john': 33}\n",
        "even_dict = {k: v for (k, v) in original_dict.items() if v % 2 == 0}\n",
        "print(even_dict)\n",
        "#Multiple if Conditional Dictionary Comprehension\n",
        "original_dict = {'jack': 38, 'michael': 48, 'guido': 57, 'john': 33}\n",
        "new_dict = {k: v for (k, v) in original_dict.items() if v % 2 != 0 if v < 40}\n",
        "print(new_dict)\n",
        "#if-else Conditional Dictionary Comprehension\n",
        "original_dict = {'jack': 38, 'michael': 48, 'guido': 57, 'john': 33}\n",
        "new_dict_1 = {k: ('old' if v > 40 else 'young')\n",
        "    for (k, v) in original_dict.items()}\n",
        "print(new_dict_1)\n",
        "#Nested Dictionary with Two Dictionary Comprehensions\n",
        "dictionary = {\n",
        "    k1: {k2: k1 * k2 for k2 in range(1, 6)} for k1 in range(2, 5)\n",
        "}\n",
        "print(dictionary)"
      ],
      "metadata": {
        "id": "CUzXxwY9mRrX"
      },
      "execution_count": null,
      "outputs": []
    },
    {
      "cell_type": "markdown",
      "source": [
        "Python args and kwargs"
      ],
      "metadata": {
        "id": "-zhYwyuin-a0"
      }
    },
    {
      "cell_type": "code",
      "source": [
        "'''\n",
        "In Python, we can pass a variable number of arguments to a function using \n",
        "special symbols. There are two special symbols:\n",
        "*args (Non Keyword Arguments)\n",
        "**kwargs (Keyword Arguments)\n",
        "*args and **kwargs are special keyword which allows function to take variable length argument.\n",
        "*args and **kwargs make the function flexible.\n",
        "'''\n",
        "#Using *args to pass the variable length arguments to the function\n",
        "'*args passes variable number of non-keyworded arguments and on which operation of the tuple can be performed.'\n",
        "def adder(*num):\n",
        "    sum = 0    \n",
        "    for n in num:\n",
        "        sum = sum + n\n",
        "    print(\"Sum:\",sum)\n",
        "adder(3,5)\n",
        "adder(4,5,6,7)\n",
        "adder(1,2,3,5,6)\n",
        "#Using **kwargs to pass the variable keyword arguments to the function \n",
        "'**kwargs passes variable number of keyword arguments dictionary to function on which operation of a dictionary can be performed.'\n",
        "def intro(**data):\n",
        "    print(\"\\nData type of argument:\",type(data))\n",
        "    for key, value in data.items():\n",
        "        print(\"{} is {}\".format(key,value))\n",
        "intro(Firstname=\"Sita\", Lastname=\"Sharma\", Age=22, Phone=1234567890)\n",
        "intro(Firstname=\"John\", Lastname=\"Wood\", Email=\"johnwood@nomail.com\", Country=\"Wakanda\", Age=25, Phone=9876543210)\n"
      ],
      "metadata": {
        "id": "6LX0JOcGn-JJ"
      },
      "execution_count": null,
      "outputs": []
    },
    {
      "cell_type": "markdown",
      "source": [
        "Class"
      ],
      "metadata": {
        "id": "LY4oJSDPVKsY"
      }
    },
    {
      "cell_type": "code",
      "source": [
        "# Single Linked List implementation OOP\n",
        "class Node:\n",
        "  def __init__(self, dataval=None):\n",
        "    self.dataval = dataval\n",
        "    self.nextval = None\n",
        "\n",
        "class SLinkedList:\n",
        "  def __init__(self):\n",
        "    self.headval = None\n",
        "\n",
        "  def listprint(self):\n",
        "    printval = self.headval\n",
        "    while printval is not None:\n",
        "      print (printval.dataval)\n",
        "      printval = printval.nextval\n",
        "\n",
        "list1 = SLinkedList()\n",
        "list1.headval = Node(\"Mon\")\n",
        "e2 = Node(\"tue\")\n",
        "e3 = Node(\"wed\")\n",
        "\n",
        "list1.headval.nextval =e2\n",
        "e2.nextval = e3\n",
        "list1.listprint()\n",
        "\n",
        "\n",
        "class ComplexNumber:\n",
        "    def __init__(self, r=0, i=0):\n",
        "        self.real = r\n",
        "        self.imag = i\n",
        "    def get_data(self):\n",
        "        print(f'{self.real}+{self.imag}j')\n",
        "num1 = ComplexNumber(2, 3)\n",
        "num1.get_data()\n",
        "# Create another ComplexNumber object\n",
        "# and create a new attribute 'attr'\n",
        "num2 = ComplexNumber(5)\n",
        "num2.attr = 10\n",
        "print((num2.real, num2.imag, num2.attr))  # Output: (5, 0, 10)\n",
        "# print(num1.attr) AttributeError as c1 object doesn't have attribute 'attr'\n"
      ],
      "metadata": {
        "id": "UH2RcCncBSK1"
      },
      "execution_count": null,
      "outputs": []
    },
    {
      "cell_type": "markdown",
      "source": [
        "Inheritance"
      ],
      "metadata": {
        "id": "Nuy-NFr7Wylp"
      }
    },
    {
      "cell_type": "code",
      "source": [
        "#Base class\n",
        "class Employee: \n",
        "  noEmp = 0\n",
        "  raise_amnt = 1.04\n",
        "  def __init__(self, first, last, pay):\n",
        "    self.first = first\n",
        "    self.last = last\n",
        "    self.pay = pay\n",
        "    Employee.noEmp += 1 \n",
        "  def fullname(self):\n",
        "    return '{} {}' .format(self.first, self.last)\n",
        "  def raise_pay(self):\n",
        "    return int(self.pay * self.raise_amnt)\n",
        "# Derived Class\n",
        "class Developer(Employee): # developer class inherits employee class property\n",
        "  def __init__(self, first, last, pay, proglang):\n",
        "    super().__init__(first, last, pay)\n",
        "    self.proglang = proglang\n",
        "\n",
        "emp1=Employee(\"Batman\",\"Superman\", 10000000)\n",
        "print(emp1.fullname())\n",
        "print(emp1.raise_pay())\n",
        "# print(emp1.proglang) employee class doesn't inherit developer class property\n",
        "\n",
        "dev1 = Developer(\"Akshey\", \"Sigdel\", 10000000, \"Python\")\n",
        "print(dev1.fullname())  # developer class inherits employee class property\n",
        "print(dev1.raise_pay())  # developer class inherits employee class property\n",
        "print(dev1.proglang)\n",
        "\n"
      ],
      "metadata": {
        "id": "6cA3HgmqW2MD"
      },
      "execution_count": null,
      "outputs": []
    },
    {
      "cell_type": "markdown",
      "source": [
        "Exception Handling"
      ],
      "metadata": {
        "id": "uQGOEyMxaWAj"
      }
    },
    {
      "cell_type": "code",
      "source": [
        "'''\n",
        "Python has many built-in exceptions that are raised when your program \n",
        "encounters an error (something in the program goes wrong).\n",
        "When these exceptions occur, the Python interpreter stops the current process \n",
        "and passes it to the calling process until it is handled. If not handled, \n",
        "the program will crash.\n",
        "In Python, The critical operation which can raise an exception is placed inside\n",
        "the try clause. The code that handles the exceptions is written in the except clause.\n",
        "'''\n",
        "randomList = [\"a\", 0, {1, 2, 3}, 4]\n",
        "\n",
        "\"\"\"\n",
        "for entry in randomList:\n",
        "    try:\n",
        "        print(\"The entry is\", entry)\n",
        "        r = 1/int(entry)\n",
        "        break\n",
        "    except Exception as e:\n",
        "        print(\"Oops!\", e.__class__, \"occurred.\")\n",
        "        print(\"Next entry.\")\n",
        "        print()\n",
        "print(\"The reciprocal of\", entry, \"is\", r)\n",
        "\n",
        "\"\"\"\n",
        "for entry in randomList:\n",
        "    try:\n",
        "        print(\"The divisor is\", entry)\n",
        "        result = 1/int(entry)\n",
        "        break\n",
        "    except ValueError:\n",
        "        print(\"Value Error Occured\")\n",
        "        print(\"Next Entry\\n\")\n",
        "    except ZeroDivisionError:\n",
        "        print(\"Zero Division Error Occured\")\n",
        "        print(\"Next Entry\\n\")\n",
        "    except:\n",
        "        print(\"Some other error occured\")\n",
        "        print(\"Next Entry\\n\")\n",
        "print(\"The reciprocal of\", entry, \"is\", result, \"\\n\")\n",
        "\n",
        "# raising an exception\n",
        "try:\n",
        "    a = int(input(\"Enter a positive integer:\"))\n",
        "    if a < 0:\n",
        "        raise ValueError(\"Not a positive number\")\n",
        "except ValueError as ve:\n",
        "    print(ve)\n",
        "\n",
        "# try with else clause\n",
        "try:\n",
        "    num = int(input(\"Enter a number: \"))\n",
        "    assert num % 2 == 0\n",
        "except:\n",
        "    print(\"Not an even number!\")\n",
        "else:\n",
        "    reciprocal = 1/num\n",
        "    print(reciprocal)\n",
        "# try with finally \n",
        "#finally clause is executed no matter what, and is generally used to release external resources.\n",
        "try:\n",
        "   f = open(\"sample_data/test.txt\",encoding = 'utf-8')\n",
        "   for line in f:\n",
        "        print(line, end='')\n",
        "finally:\n",
        "   f.close()\n",
        "\n"
      ],
      "metadata": {
        "id": "nEO-RsrSaYBC"
      },
      "execution_count": null,
      "outputs": []
    }
  ]
}