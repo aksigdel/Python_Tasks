{
  "nbformat": 4,
  "nbformat_minor": 0,
  "metadata": {
    "colab": {
      "provenance": []
    },
    "kernelspec": {
      "name": "python3",
      "display_name": "Python 3"
    },
    "language_info": {
      "name": "python"
    }
  },
  "cells": [
    {
      "cell_type": "markdown",
      "source": [
        "Getting started with Hello World"
      ],
      "metadata": {
        "id": "mRabBI_iClco"
      }
    },
    {
      "cell_type": "code",
      "execution_count": null,
      "metadata": {
        "id": "U-rVZRKLsmPM"
      },
      "outputs": [],
      "source": [
        "print('Hello World')"
      ]
    },
    {
      "cell_type": "markdown",
      "source": [
        "Keywords, Identifiers, Statements, Indentation, Comments and Docstrings"
      ],
      "metadata": {
        "id": "W7TrijFvCTk3"
      }
    },
    {
      "cell_type": "code",
      "source": [
        "# Hash symbol '#' is used to write a single-line comment.\n",
        "\n",
        "'String not assigned to a variable can be used as comment as well'\n",
        "\n",
        "\"\"\"For multi-line comment\n",
        "   3 double quote or\n",
        "   3 single quote can be used\n",
        "\"\"\"\n",
        "\n",
        "''' Python Keywords are reserved words in the language.\n",
        "    Identifiers are names given to variables, functions etc. \n",
        "    Keywords cannot be used as identifier. \n",
        "    Keywords define syntax and structure of the langauge.\n",
        "'''\n",
        "\n",
        "import numpy as np # import is a keyword.\n",
        "\n",
        "def func(arg):\n",
        "    pass # function that does nothing. def and pass are keywords here.\n",
        "\n",
        "# Language and version are string variables.\n",
        "language = 'python' \n",
        "version = '3.10.7' \n",
        "\n",
        "''' \n",
        "    Variables name (language, version) is only a kind of identifier. \n",
        "    Other kinds of identifiers are function names(func), class names, structure names, etc.\n",
        "'''\n",
        "# Simple statements\n",
        "a = ' '\n",
        "print(\"Programming language\", language + a + version)\n",
        "\n",
        "# multi-line statements can be written within braces or using continuation character '\\'.\n",
        "addition = 10 + 20 + \\\n",
        "           30 + 40 + \\\n",
        "           50 + 60 + 70\n",
        "print(addition)\n",
        "\n",
        "additions = (10 + 20 +\n",
        "            30 + 40 +\n",
        "            50 + 60 + 70)\n",
        "print(additions)\n",
        "\n",
        "#multiple statements in a single line using semicolons\n",
        "a = 1; b = 2; c = 3\n",
        "\n",
        "'Unlike some other languages, python uses indentation to define block of codes. Code block for body of function, loop etc. are indentated.'\n",
        "for i in range(1,11):\n",
        "    print(i)\n",
        "    if i == 5:\n",
        "        break\n",
        "\n",
        "# Python Docstrings (documentation strings) are the string literals that appear right after the definition of a function, method, class, or module\n",
        "def double(num):\n",
        "    \"\"\"Function to double the value\"\"\"\n",
        "    return 2*num\n",
        "print(double.__doc__)"
      ],
      "metadata": {
        "id": "9FUf0sdZvvUp"
      },
      "execution_count": null,
      "outputs": []
    },
    {
      "cell_type": "markdown",
      "source": [
        "Variable, Constant and Literal"
      ],
      "metadata": {
        "id": "e_aTbp4fE82R"
      }
    },
    {
      "cell_type": "code",
      "source": [
        "# A variable is a named location used to store data in the memory.\n",
        "number = 10\n",
        "print(number)\n",
        "website = \"apple.com\"\n",
        "print(website)\n",
        "# data assigned can be changed later.\n",
        "number = 1.1\n",
        "print(number)\n",
        "# assigning a new value to website\n",
        "website = \"programiz.com\"\n",
        "print(website)\n",
        "# Assigning multiple values to multiple variables\n",
        "a, b, c = 5, 3.2, \"Hello\" # even same value can be assigned to multiple variables\n",
        "print (a)\n",
        "print (b)\n",
        "print (c)\n",
        "'''\n",
        "   In Python, constants are usually declared and assigned in a module. \n",
        "   The module is a new file containing variables, functions, etc which is imported to the main file. \n",
        "   Inside the module, constants are written in all capital letters and underscores separating the words.\n",
        "\n",
        "   In reality, we don't use constants in Python. \n",
        "   Naming them in all capital letters is a convention to separate them from variables, \n",
        "   however, it does not actually prevent reassignment.\n",
        "'''\n",
        "# simple constant implementation without importing\n",
        "#import constant\n",
        "PI = 3.14\n",
        "GRAVITY = 9.8\n",
        "#print(constant.PI)\n",
        "#print(constant.GRAVITY)\n",
        "print(PI)\n",
        "print(GRAVITY)\n",
        "\n",
        "'''\n",
        "   Literal is a raw data given in a variable or constant.\n",
        "\n",
        "'''\n",
        "#Integer literal\n",
        "a = 0b1010 #Binary Literals\n",
        "b = 100 #Decimal Literal \n",
        "c = 0o310 #Octal Literal\n",
        "d = 0x12c #Hexadecimal Literal\n",
        "\n",
        "#Float Literal\n",
        "float_1 = 10.5 \n",
        "float_2 = 1.5e2\n",
        "\n",
        "#Complex Literal \n",
        "x = 3.14j\n",
        "\n",
        "print(a, b, c, d)\n",
        "print(float_1, float_2)\n",
        "print(x, x.imag, x.real)\n",
        "\n",
        "#String Literal \n",
        "strings = \"This is Python\"\n",
        "char = \"C\"\n",
        "multiline_str = \"\"\"This is a multiline string with more than one line code.\"\"\"\n",
        "unicode = u\"\\u00dcnic\\u00f6de\"\n",
        "raw_str = r\"raw \\n string\"\n",
        "\n",
        "print(strings)\n",
        "print(char)\n",
        "print(multiline_str)\n",
        "print(unicode)\n",
        "print(raw_str)\n",
        "\n",
        "#Boolean Literal\n",
        "x = (1 == True) #True vlaue is 1\n",
        "y = (1 == False) #False value is 0\n",
        "a = True + 4 #True vlaue is 1\n",
        "b = False + 10 #False value is 0\n",
        "\n",
        "print(\"x is\", x)\n",
        "print(\"y is\", y)\n",
        "print(\"a:\", a)\n",
        "print(\"b:\", b)\n",
        "\n",
        "#Special Literal -> None\n",
        "drink = \"Available\"\n",
        "food = None\n",
        "def menu(x):\n",
        "    if x == drink:\n",
        "        print(drink)\n",
        "    else:\n",
        "        print(food)\n",
        "menu(drink)\n",
        "menu(food)\n"
      ],
      "metadata": {
        "id": "ZQySVIzlt4Lz"
      },
      "execution_count": null,
      "outputs": []
    },
    {
      "cell_type": "markdown",
      "source": [
        "Data Types in details (List, Dictionary, Tuple, Set, Strings), Type Conversion and Type casting\n",
        "\n"
      ],
      "metadata": {
        "id": "RYpvwww4MfVm"
      }
    },
    {
      "cell_type": "code",
      "source": [
        "#Numbers\n",
        "a = 5\n",
        "print(a, \"is of type\", type(a))\n",
        "a = 2.0\n",
        "print(a, \"is of type\", type(a))\n",
        "a = 1+2j\n",
        "print(a, \"is complex number?\", isinstance(1+2j,complex))\n",
        "\n",
        "#String\n",
        "s = \"This is a string\"\n",
        "print(s)\n",
        "s = '''A multiline\n",
        "       string'''\n",
        "print(s)\n",
        "string = \"My name is Batman\"\n",
        "print(\"string[3]:\", string[3])\n",
        "print(\"string[11:17]:\", string[11:17])\n",
        "#Strings are immutable.\n",
        "string[11] ='C' # Generates error\n",
        "\n",
        "# List is an ordered sequence of items. All the items in a list do not need to be of the same type.\n",
        "# Items separated by commas are enclosed within brackets [ ].\n",
        "a = [5,10,15,20,25,30,35,40]\n",
        "print(\"a[2] = \", a[2]) # a[2] = 15\n",
        "print(\"a[0:3] = \", a[0:3]) # a[0:3] = [5, 10, 15]\n",
        "print(\"a[5:] = \", a[5:]) # a[5:] = [30, 35, 40]\n",
        "# Lists are mutable.\n",
        "a = [1, 2, 3]\n",
        "a[2] = 4\n",
        "print(a) # op: [1, 2, 4]\n",
        "\n",
        "# Tuple is an ordered sequence of items same as a list. The only difference is that tuples are immutable. \n",
        "# It is defined within parentheses () where items are separated by commas.\n",
        "t = (5,'program', 1+3j)\n",
        "print(\"t[1] = \", t[1]) # op: t[1] = 'program'\n",
        "print(\"t[0:3] = \", t[0:3]) # op: t[0:3] = (5, 'program', (1+3j))\n",
        "# Tuples are immutable\n",
        "t[0] = 10 # Generates error\n",
        "\n",
        "#Set is an unordered collection of unique items. Items in a set are not ordered.\n",
        "#Set is defined by values separated by comma inside braces { }. \n",
        "a = {5,2,3,1,4}\n",
        "print(\"a = \", a) # a =  {1, 2, 3, 4, 5}\n",
        "print(type(a)) # op: <class 'set'>\n",
        "#Sets have unique values. They eliminate duplicates.\n",
        "a = {1,2,2,3,3,3}\n",
        "print(a) # op:{1, 2, 3}\n",
        "# 'set' object does not support indexing\n",
        "a[1] # Generates error\n",
        "\n",
        "#Dictionary is an unordered collection of key-value pairs. Key and value can be of any type.\n",
        "# In Python, dictionaries are defined within braces {} with each item being a pair in the form key:value. \n",
        "d = {1:'value','key':2}\n",
        "print(type(d)) # op: <class 'dict'>\n",
        "# key is used to retrieve the respective value. But not the other way around.\n",
        "print(\"d[1] = \", d[1]) # op: d[1] =  value\n",
        "print(\"d['key'] = \", d['key']) # op: d['key'] =  2\n",
        "print(\"d[2] = \", d[2]) # Generates error\n",
        "\n",
        "# Type Conversion and Type casting\n",
        "#explicit type conversion (type casting)\n",
        "print(float(11)) # op: 11.0\n",
        "print(int(15.8890)) # op: 15\n",
        "print(int(-9.780)) # op: -9\n",
        "print(float('3.21')) # op: 3.21\n",
        "print(str(420)) # op: '420'\n",
        "\n",
        "print(set([1, 2, 3])) # op: {1, 2, 3}\n",
        "print(tuple({5, 6, 7})) # op: (5, 6, 7)\n",
        "print(list('hello')) # op: ['h', 'e', 'l', 'l', 'o']\n",
        "print(dict([[1, 'apple'], [2, 'banana']])) # op: {1: 'apple', 2: 'banana'}\n",
        "print(dict([(3, 11), (4, 22)])) # op: {3: 11, 4: 22}\n",
        "\n",
        "#implicit type conversion\n",
        "a = 66\n",
        "b = 3.0\n",
        "result = a + b\n",
        "print(\"type of a:\", type(a)) # int\n",
        "print(\"type of b:\", type(b)) # float\n",
        "print(\"type of result:\", type(result)) # float\n"
      ],
      "metadata": {
        "id": "wmtpLTLmFIGO"
      },
      "execution_count": null,
      "outputs": []
    },
    {
      "cell_type": "markdown",
      "source": [
        "Input, Output and Import\n"
      ],
      "metadata": {
        "id": "nPcDoBNhPR6G"
      }
    },
    {
      "cell_type": "code",
      "source": [
        "# Python Output Using print() function\n",
        "print('This sentence is output to the screen')\n",
        "a = 5\n",
        "print('The value of a is', a)\n",
        "print(1, 2, 3, 4) # op: 1 2 3 4\n",
        "print(1, 2, 3, 4, sep='*') # op: 1*2*3*4\n",
        "print(1, 2, 3, 4, sep='#', end='&') # op: 1#2#3#4&\n",
        "\n",
        "#Output formatting\n",
        "x = 5; y = 10\n",
        "print('The value of x is {} and y is {}'.format(x,y))\n",
        "# op: The value of x is 5 and y is 10\n",
        "print('I love {0} and {1}'.format('bread','butter'))\n",
        "# op: I love bread and butter\n",
        "print('I love {1} and {0}'.format('bread','butter'))\n",
        "# op: I love butter and bread\n",
        "# keyword arguments to format the string.\n",
        "print('Hello {name}, {greeting}'.format(greeting = 'Goodmorning', name = 'John'))\n",
        "# op: Hello John, Goodmorning\n",
        "x = 12.3456789\n",
        "print('The value of x is %3.2f' %x)\n",
        "# op: The value of x is 12.34\n",
        "print('The value of x is %3.4f' %x)\n",
        "#The value of x is 12.3457\n",
        "\n",
        "# Python Input using input() funciton\n",
        "num = input('Enter a number: ') # op: Enter a number: 10\n",
        "print(num) # op: 10\n",
        "\n",
        "#import\n",
        "import math\n",
        "print(math.pi) # op: 3.141592653589793\n"
      ],
      "metadata": {
        "id": "-WBkv6YKMl4C"
      },
      "execution_count": null,
      "outputs": []
    },
    {
      "cell_type": "markdown",
      "source": [
        "Operators"
      ],
      "metadata": {
        "id": "d-2XD8HHS5bm"
      }
    },
    {
      "cell_type": "code",
      "source": [
        "#Operators are special symbols in Python that carry out arithmetic or logical computation.\n",
        "#Arithmetic operators\n",
        "x = 15; y = 4\n",
        "print('x + y =',x+y) # op: x + y = 19\n",
        "print('x - y =',x-y) # op: x - y = 11 \n",
        "print('x * y =',x*y) # op: x * y = 60\n",
        "print('x / y =',x/y) # op: x / y = 3.75\n",
        "print('x // y =',x//y) # op: x // y = 3\n",
        "print('x ** y =',x**y) # op: x ** y = 50625\n",
        "#Comparison operators\n",
        "x = 10 ; y = 12\n",
        "print('x > y is',x>y) # op: x > y is False\n",
        "print('x < y is',x<y) # op: x < y is True\n",
        "print('x == y is',x==y) # op: x == y is False\n",
        "print('x != y is',x!=y) # op: x != y is True\n",
        "print('x >= y is',x>=y) # op: x >= y is False\n",
        "print('x <= y is',x<=y) # op: x <= y is True\n",
        "#Logical operators\n",
        "x = True; y = False\n",
        "print('x and y is',x and y) # op: x and y is False\n",
        "print('x or y is',x or y) # op: x or y is True\n",
        "print('not x is',not x) # op: not x is False\n",
        "#Bitwise operators\n",
        "x = 0b1100 # 12\n",
        "y = 0b1001 # 9\n",
        "print(\"x & y = \", bin(x & y)) # op: x & y =  0b1000\n",
        "print(\"x | y = \", bin(x | y)) # op: x | y =  0b1101\n",
        "print(\"~x = \", bin(~x)) # op: ~x =  -0b1101\n",
        "print(\"x ^ y = \", bin(x ^ y)) # op: x ^ y =  0b101\n",
        "print(\"x >> 2 = \", bin(x >> 2)) # op: x >> 2 =  0b11\n",
        "print(\"x << 2 = \", bin(x << 1)) # op: x << 2 =  0b11000\n",
        "#Membership operators\n",
        "x = 'Hello world'\n",
        "y = {1:'a',2:'b'}\n",
        "print('H' in x) # op: True\n",
        "print('hello' not in x) # op: True\n",
        "print(1 in y) # op: True\n",
        "print('a' in y) # op: False\n",
        "#Identity operators\n",
        "x1 = 5 ; y1 = 5\n",
        "x2 = 'Hello'\n",
        "y2 = 'Hello'\n",
        "x3 = [1,2,3]\n",
        "y3 = [1,2,3]\n",
        "print(x1 is not y1) # op: False\n",
        "print(x2 is y2) # op: True\n",
        "print(x3 is y3) # op: False\n"
      ],
      "metadata": {
        "id": "exi6FeczPbmT"
      },
      "execution_count": null,
      "outputs": []
    },
    {
      "cell_type": "markdown",
      "source": [
        "Namespace, Local & Global variables"
      ],
      "metadata": {
        "id": "XcS-wYEh_9RV"
      }
    },
    {
      "cell_type": "code",
      "source": [
        "def outer_function():\n",
        "    a = 20 # local variable in outer_function namespace\n",
        "    def inner_function():\n",
        "        a = 30 # local variable in inner_function namespace\n",
        "        print('a =', a)\n",
        "    inner_function()\n",
        "    print('a =', a)\n",
        "a = 10 # global variable in global namespace\n",
        "outer_function()\n",
        "print('a =', a)\n",
        "\n",
        "'''output:\n",
        "   a=30\n",
        "   a=20\n",
        "   a=10\n",
        "'''\n",
        "\n",
        "def outer_function():\n",
        "    global a\n",
        "    a = 20 # global variable in global namespace\n",
        "    def inner_function():\n",
        "        global a\n",
        "        a = 30 # global variable in global namespace\n",
        "        print('a =', a)\n",
        "    inner_function()\n",
        "    print('a =', a)\n",
        "a = 10 # global variable in global namespace\n",
        "outer_function()\n",
        "print('a =', a)\n",
        "\n",
        "'''output:\n",
        "   a=30\n",
        "   a=30\n",
        "   a=30\n",
        "'''\n",
        "\n",
        "x = \"global \"  # global variable in global namespace\n",
        "def foo():\n",
        "    global x\n",
        "    y = \"local\"  # local variable in foo namespace\n",
        "    x = x * 2  # global variable in global namespace\n",
        "    print(x)\n",
        "    print(y)\n",
        "foo()\n",
        "\n",
        "x = 5   # global variable in global namespace\n",
        "def foo():\n",
        "    x = 10   # local variable in foo namespace\n",
        "    print(\"local x:\", x)\n",
        "foo()\n",
        "print(\"global x:\", x)"
      ],
      "metadata": {
        "id": "FL9QJmUu_9Ay"
      },
      "execution_count": null,
      "outputs": []
    },
    {
      "cell_type": "markdown",
      "source": [
        "Flow Control (if..else)"
      ],
      "metadata": {
        "id": "wn16HhE7nQ4O"
      }
    },
    {
      "cell_type": "code",
      "source": [
        "# If the number is positive, we print an appropriate message\n",
        "num = 3\n",
        "if num > 0:\n",
        "    print(num, \"is a positive number.\")\n",
        "print(\"This is always printed.\")\n",
        "num = -1\n",
        "if num > 0:\n",
        "    print(num, \"is a positive number.\")\n",
        "print(\"This is also always printed.\")\n",
        "\n",
        "# Program to check if the number is positive or negative\n",
        "num = 3\n",
        "if num >= 0:\n",
        "    print(\"Positive or Zero\")\n",
        "else:\n",
        "    print(\"Negative number\")\n",
        "\n",
        "#Program to check if the number is positive or negative or zero\n",
        "#without nested if..else\n",
        "num = 3.4\n",
        "if num > 0:\n",
        "    print(\"Positive number\")\n",
        "elif num == 0:\n",
        "    print(\"Zero\")\n",
        "else:\n",
        "    print(\"Negative number\")\n",
        "#with nested if..else\n",
        "num = float(input(\"Enter a number: \"))\n",
        "if num >= 0:\n",
        "    if num == 0:\n",
        "        print(\"Zero\")\n",
        "    else:\n",
        "        print(\"Positive number\")\n",
        "else:\n",
        "    print(\"Negative number\")"
      ],
      "metadata": {
        "colab": {
          "base_uri": "https://localhost:8080/"
        },
        "id": "XwC1jQjYS7Qc",
        "outputId": "0b9759be-9bea-4c1a-e450-b7c96f1b1e5a"
      },
      "execution_count": 6,
      "outputs": [
        {
          "output_type": "stream",
          "name": "stdout",
          "text": [
            "3 is a positive number.\n",
            "This is always printed.\n",
            "This is also always printed.\n"
          ]
        }
      ]
    },
    {
      "cell_type": "markdown",
      "source": [
        "Loop (for, while)"
      ],
      "metadata": {
        "id": "mWMomqkMoVE6"
      }
    },
    {
      "cell_type": "code",
      "source": [
        "'''for loop'''\n",
        "\n",
        "# Program to find the sum of all numbers stored in a list\n",
        "numbers = [6, 5, 3, 8, 4, 2, 5, 4, 11]\n",
        "sum = 0\n",
        "# iterate over the list\n",
        "for val in numbers:\n",
        "    sum = sum+val\n",
        "print(\"The sum is\", sum)\n",
        "\n",
        "# Program to iterate through a list using indexing\n",
        "genre = ['pop', 'rock', 'jazz']\n",
        "# iterate over the list using index\n",
        "for i in range(len(genre)):\n",
        "    print(\"I like\", genre[i])\n",
        "\n",
        "'''for loop with else'''\n",
        "\n",
        "digits = [0, 1, 5]\n",
        "for i in digits:\n",
        "    print(i)\n",
        "else:\n",
        "    print(\"No items left.\")\n",
        "\n",
        "# program to display student's marks from record\n",
        "student_name = 'Soyuj'\n",
        "\n",
        "marks = {'James': 90, 'Jules': 55, 'Arthur': 77}\n",
        "\n",
        "for student in marks:\n",
        "    if student == student_name:\n",
        "        print(marks[student])\n",
        "        break\n",
        "else:\n",
        "    print('No entry with that name found.')\n",
        "\n",
        "\n",
        "'''while loop'''\n",
        "\n",
        "# Program to add natural\n",
        "n = int(input(\"Enter n: \"))\n",
        "sum = 0\n",
        "i = 1\n",
        "while i <= n:\n",
        "    sum = sum + i\n",
        "    i = i+1 \n",
        "print(\"The sum is\", sum)\n",
        "\n",
        "'''while loop with else'''\n",
        "\n",
        "#Example to illustrate the use of else statement with the while loop\n",
        "counter = 0\n",
        "while counter < 3:\n",
        "    print(\"Inside loop\")\n",
        "    counter = counter + 1\n",
        "else:\n",
        "    print(\"Inside else\")\n"
      ],
      "metadata": {
        "id": "4Mvg15nAoUuV"
      },
      "execution_count": null,
      "outputs": []
    },
    {
      "cell_type": "markdown",
      "source": [
        "Break, Continue and Pass"
      ],
      "metadata": {
        "id": "IyMxyNAvpwtU"
      }
    },
    {
      "cell_type": "code",
      "source": [
        "# Use of break statement inside the loop\n",
        "for val in \"string\":\n",
        "    if val == \"i\":\n",
        "        break\n",
        "    print(val)\n",
        "print(\"The end\")\n",
        "\n",
        "# Program to show the use of continue statement inside loops\n",
        "for val in \"string\":\n",
        "    if val == \"i\":\n",
        "        continue\n",
        "    print(val)\n",
        "print(\"The end\")\n",
        "\n",
        "# Pass is just a placeholder for functionality to be added later.\n",
        "sequence = {'p', 'a', 's', 's'}\n",
        "for val in sequence:\n",
        "    pass\n",
        "# Empty function\n",
        "def function(args):\n",
        "    pass\n",
        "# Empty class\n",
        "class Example:\n",
        "    pass\n"
      ],
      "metadata": {
        "id": "nZsX6SFWpwXA"
      },
      "execution_count": null,
      "outputs": []
    },
    {
      "cell_type": "markdown",
      "source": [
        "Functions (User defined & built-in functions) and Return statement"
      ],
      "metadata": {
        "id": "RIRAFAn-qjcC"
      }
    },
    {
      "cell_type": "code",
      "source": [
        "# Simple User-defined function\n",
        "'Function definition should always be present before the function call. Otherwise, we will get an error. '\n",
        "def greet(name): #function definition\n",
        "    \"\"\"\n",
        "    This function greets to the person passed in as a parameter\n",
        "    \"\"\"\n",
        "    print(\"Hello, \" + name + \". Good morning!\")\n",
        "\n",
        "greet('Paul') #function call\n",
        "\n",
        "#Built-in Functions\n",
        "#Built-in Functions are functions that are readily available for use.\n",
        "number = -20\n",
        "absolute_number = abs(number) #abs is a built-in function in python\n",
        "print(absolute_number) # op: 20\n",
        "# Return Statement\n",
        "\n",
        "def absolute_value(num):\n",
        "    \"\"\"\n",
        "    This function returns the absolute value of the entered number\n",
        "    \"\"\"\n",
        "    if num >= 0:\n",
        "        return num\n",
        "    else:\n",
        "        return -num\n",
        "\n",
        "print(absolute_value(2))\n",
        "print(absolute_value(-4))"
      ],
      "metadata": {
        "id": "c8rNzdfmqjMZ"
      },
      "execution_count": null,
      "outputs": []
    },
    {
      "cell_type": "markdown",
      "source": [
        "Function Arguments (Default, Keyword, Arbitrary)\n"
      ],
      "metadata": {
        "id": "G5RHknGBsRDV"
      }
    },
    {
      "cell_type": "code",
      "source": [
        "def greet(name, msg): #name and msg are arguments to function greet\n",
        "    \"\"\"This function greets to\n",
        "    the person with the provided message\"\"\"\n",
        "    print(\"Hello\", name + ', ' + msg)\n",
        "#arguments needs to be passed when calling function other error will generate\n",
        "greet(\"Monica\", \"Good morning!\") \n",
        "#greet(\"Monica\") error\n",
        "#greet() error\n",
        "\n",
        "#default argument\n",
        "def greet(name, msg=\"Good morning!\"):\n",
        "    \"\"\"\n",
        "    This function greets to the person with the provided message.\n",
        "    If the message is not provided, it defaults to \"Goodmorning!\"\n",
        "    \"\"\"\n",
        "    print(\"Hello\", name + ', ' + msg)\n",
        "\n",
        "greet(\"Kate\")\n",
        "greet(\"Bruce\", \"How do you do?\")\n",
        "\n",
        "#non-default arguments cannot follow default arguments\n",
        "#def greet(msg = \"Good morning!\", name) error\n",
        "\n",
        "#keyword argument\n",
        "greet(name = \"Bruce\",msg = \"How do you do?\") # 2 keyword arguments\n",
        "greet(msg = \"How do you do?\",name = \"Bruce\") # 2 keyword arguments (out of order)\n",
        "greet(\"Bruce\", msg = \"How do you do?\") #1 positional, 1 keyword argument\n",
        "#positional argument after keyword arguments will result in errors.\n",
        "#greet(name=\"Bruce\",\"How do you do?\") error\n",
        "\n",
        "#Arbitary argument\n",
        "'''\n",
        "Sometimes, we do not know in advance the number of arguments that will be passed into a function. \n",
        "Python allows us to handle this kind of situation through function calls with an arbitrary number of arguments.\n",
        "'''\n",
        "def greet(*names): # names is a tuple with arguments\n",
        "    \"\"\"This function greets all\n",
        "    the person in the names tuple.\"\"\"\n",
        "    for name in names:\n",
        "        print(\"Hello\", name)\n",
        "\n",
        "greet(\"Monica\", \"Luke\", \"Steve\", \"John\")\n"
      ],
      "metadata": {
        "id": "S5VV1qvOsQry"
      },
      "execution_count": null,
      "outputs": []
    },
    {
      "cell_type": "markdown",
      "source": [
        "Anonymous/Lamda, Filter and Map function"
      ],
      "metadata": {
        "id": "-pJeo_XeyEG6"
      }
    },
    {
      "cell_type": "code",
      "source": [
        "#Anonymous/Lamda function\n",
        "#An anonymous function is a function that is defined without a name.\n",
        "# Program to show the use of lambda functions\n",
        "double = lambda x: x * 2\n",
        "print(double(5))\n",
        "\n",
        "#Filter function\n",
        "'''\n",
        "The filter() function in Python takes in a function and a list as arguments.\n",
        "The function is called with all the items in the list and \n",
        "a new list is returned which contains items for which the function evaluates to True.\n",
        "'''\n",
        "# Program to filter out only the even items from a list\n",
        "my_list = [1, 5, 4, 6, 8, 11, 3, 12]\n",
        "new_list = list(filter(lambda x: (x%2 == 0) , my_list))\n",
        "print(new_list)\n",
        "\n",
        "#Map Function\n",
        "'''\n",
        "The map() function in Python takes in a function and a list.\n",
        "The function is called with all the items in the list and \n",
        "a new list is returned which contains items returned by that function for each item.\n",
        "'''\n",
        "# Program to double each item in a list using map()\n",
        "my_list = [1, 5, 4, 6, 8, 11, 3, 12]\n",
        "new_list = list(map(lambda x: x * 2 , my_list))\n",
        "print(new_list)\n"
      ],
      "metadata": {
        "id": "bT_xcABUvEb_"
      },
      "execution_count": null,
      "outputs": []
    }
  ]
}