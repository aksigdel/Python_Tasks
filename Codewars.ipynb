{
  "cells": [
    {
      "cell_type": "markdown",
      "source": [
        "Multiply (8kyu)"
      ],
      "metadata": {
        "id": "txVo-391EQDx"
      }
    },
    {
      "cell_type": "code",
      "source": [
        "def multiply(a, b):\n",
        "    return a * b"
      ],
      "metadata": {
        "id": "q2Y9sn4iEO42"
      },
      "execution_count": null,
      "outputs": []
    },
    {
      "cell_type": "markdown",
      "source": [
        "Reversed Words (8kyu)"
      ],
      "metadata": {
        "id": "hRLETqg3EPLx"
      }
    },
    {
      "cell_type": "code",
      "source": [
        "def reverse_words(s):\n",
        "    list=s.split()\n",
        "    list.reverse()\n",
        "    return ' '.join(list)"
      ],
      "metadata": {
        "id": "v0HQXv83EdWt"
      },
      "execution_count": null,
      "outputs": []
    },
    {
      "cell_type": "markdown",
      "source": [
        "Beginner Series #1 School Paperwork (8kyu)"
      ],
      "metadata": {
        "id": "eTMHwaN5Evss"
      }
    },
    {
      "cell_type": "code",
      "source": [
        "def paperwork(n, m):\n",
        "    if n<=0 or m<0:\n",
        "        return 0\n",
        "    else:\n",
        "        return n*m"
      ],
      "metadata": {
        "id": "xzVRYFhhEzXD"
      },
      "execution_count": null,
      "outputs": []
    },
    {
      "cell_type": "markdown",
      "source": [
        "Transportation on vacation (8kyu)"
      ],
      "metadata": {
        "id": "YHH6-wFcEpYO"
      }
    },
    {
      "cell_type": "code",
      "source": [
        "def rental_car_cost(days):\n",
        "    d=int(days)\n",
        "    cost=0\n",
        "    off3_7=20\n",
        "    off7_=50\n",
        "    if d<3:\n",
        "        cost=d*40\n",
        "    if d>=3 and d<7:\n",
        "        cost=d*40-off3_7\n",
        "    if d>=7:\n",
        "        cost=d*40-off7_\n",
        "    return cost"
      ],
      "metadata": {
        "id": "4DKZW3PpErEN"
      },
      "execution_count": null,
      "outputs": []
    },
    {
      "cell_type": "markdown",
      "source": [
        "Grasshopper - Messi goals function (8kyu)"
      ],
      "metadata": {
        "id": "r-7kVs4uE2gv"
      }
    },
    {
      "cell_type": "code",
      "source": [
        "def goals(laLiga, copaDelRey, championsLeague):\n",
        "    l=int(laLiga)\n",
        "    c=int(copaDelRey)\n",
        "    cl=int(championsLeague)\n",
        "    return l+c+cl"
      ],
      "metadata": {
        "id": "aPub6vsfE6VW"
      },
      "execution_count": null,
      "outputs": []
    },
    {
      "cell_type": "markdown",
      "source": [
        "Get Planet Name By ID (8kyu)"
      ],
      "metadata": {
        "id": "WH8DksvgE-eh"
      }
    },
    {
      "cell_type": "code",
      "source": [
        "def get_planet_name(id):\n",
        "    # This doesn't work; Fix it!\n",
        "    name=\"\"\n",
        "    match id:\n",
        "        case 1: name = \"Mercury\"\n",
        "        case 2: name = \"Venus\"\n",
        "        case 3: name = \"Earth\"\n",
        "        case 4: name = \"Mars\"\n",
        "        case 5: name = \"Jupiter\"\n",
        "        case 6: name = \"Saturn\"\n",
        "        case 7: name = \"Uranus\"  \n",
        "        case 8: name = \"Neptune\"\n",
        "    return name"
      ],
      "metadata": {
        "id": "cvF_ANDCFAUn"
      },
      "execution_count": null,
      "outputs": []
    },
    {
      "cell_type": "markdown",
      "source": [
        "Disemvowel Trolls (7kyu)"
      ],
      "metadata": {
        "id": "Uepd9TctEjZh"
      }
    },
    {
      "cell_type": "code",
      "source": [
        "def disemvowel(string_):\n",
        "    newstring=''\n",
        "    for ele in string_:\n",
        "      if ele in ('a','i','e','o','u','A','E','I','O','U'):\n",
        "        continue\n",
        "      else:\n",
        "        newstring=newstring+ele\n",
        "    string_=newstring\n",
        "    return string_"
      ],
      "metadata": {
        "id": "KZko5bNAEgp9"
      },
      "execution_count": null,
      "outputs": []
    },
    {
      "cell_type": "markdown",
      "source": [
        "Stanton measure (7kyu)"
      ],
      "metadata": {
        "id": "YAgP6zaMFEuO"
      }
    },
    {
      "cell_type": "code",
      "source": [
        "def stanton_measure(arr):\n",
        "    n=arr.count(1)\n",
        "    return arr.count(n)"
      ],
      "metadata": {
        "id": "q1nmTEoJFGeb"
      },
      "execution_count": null,
      "outputs": []
    },
    {
      "cell_type": "markdown",
      "source": [
        "Remove anchor from URL (7kyu)"
      ],
      "metadata": {
        "id": "uLUzcBtVFNjn"
      }
    },
    {
      "cell_type": "code",
      "source": [
        "def remove_url_anchor(url):\n",
        "    return url.split('#')[0]"
      ],
      "metadata": {
        "id": "FfeKCaxUFRZJ"
      },
      "execution_count": null,
      "outputs": []
    },
    {
      "cell_type": "markdown",
      "source": [
        "Factorial (7kyu)"
      ],
      "metadata": {
        "id": "rnx-L2anKpMr"
      }
    },
    {
      "cell_type": "code",
      "source": [
        "def factorial(n):\n",
        "    if n<2: return 1\n",
        "    else: return n*factorial(n-1)"
      ],
      "metadata": {
        "id": "814vw8c7Kp-X"
      },
      "execution_count": null,
      "outputs": []
    },
    {
      "cell_type": "markdown",
      "source": [
        "Alphabetically ordered (7kyu)"
      ],
      "metadata": {
        "id": "ztJk6JYUFSwt"
      }
    },
    {
      "cell_type": "code",
      "source": [
        "def alphabetic(s):\n",
        "    lst = [s[i] for i in range(0,len(s))]\n",
        "    lst.sort()\n",
        "    sorteds= ''.join(lst)\n",
        "    if sorteds == s:\n",
        "        return True\n",
        "    else:\n",
        "        return False"
      ],
      "metadata": {
        "id": "Ev_d_3DpFWeL"
      },
      "execution_count": null,
      "outputs": []
    },
    {
      "cell_type": "markdown",
      "source": [
        "Exes and Ohs (7kyu)"
      ],
      "metadata": {
        "id": "PXihpU0MFeVH"
      }
    },
    {
      "cell_type": "code",
      "source": [
        "def xo(s):\n",
        "    x_count=0\n",
        "    o_count=0\n",
        "    s=s.lower()\n",
        "    for char in s:\n",
        "        if char == 'x':\n",
        "            x_count+=1\n",
        "        elif char == 'o':\n",
        "            o_count +=1\n",
        "    return True if x_count==o_count else False"
      ],
      "metadata": {
        "id": "gsiUYVe3FgUX"
      },
      "execution_count": null,
      "outputs": []
    },
    {
      "cell_type": "markdown",
      "source": [
        "Breaking chocolate problem (7kyu)"
      ],
      "metadata": {
        "id": "DDmBjHdjFi0Q"
      }
    },
    {
      "cell_type": "code",
      "source": [
        "def break_chocolate(n, m):\n",
        "    if n==0 and m==0:\n",
        "        return 0\n",
        "    else:\n",
        "        return (n*m)-1"
      ],
      "metadata": {
        "id": "nOk8ZaPJFnd5"
      },
      "execution_count": null,
      "outputs": []
    },
    {
      "cell_type": "markdown",
      "source": [
        "Build a square (7kyu)"
      ],
      "metadata": {
        "id": "Erfb9lqQInAQ"
      }
    },
    {
      "cell_type": "code",
      "source": [
        "def generate_shape(n):\n",
        "    return '\\n'.join('+' * n for _ in range(n))"
      ],
      "metadata": {
        "id": "1JO8cwUnInmy"
      },
      "execution_count": null,
      "outputs": []
    },
    {
      "cell_type": "markdown",
      "source": [
        "Sum of two lowest positive integers (7kyu)"
      ],
      "metadata": {
        "id": "wQwYhGK1cWaW"
      }
    },
    {
      "cell_type": "code",
      "source": [
        "def sum_two_smallest_numbers(num):\n",
        "    num.sort()\n",
        "    return (num[0]+num[1])"
      ],
      "metadata": {
        "id": "5_4gBR_RcWxe"
      },
      "execution_count": null,
      "outputs": []
    },
    {
      "cell_type": "markdown",
      "source": [
        "Numbers Which Sum of Powers of Its Digits Is The Same Number (7kyu)"
      ],
      "metadata": {
        "id": "qxJWcwP0FrKb"
      }
    },
    {
      "cell_type": "code",
      "source": [
        "def eq_sum_powdig(hMax, exp):\n",
        "  list=[]\n",
        "  for i in range(2,hMax+1):\n",
        "    i=str(i)\n",
        "    sum=0\n",
        "    for j in range(0,len(i)):\n",
        "      a =i[j]\n",
        "      a=int(a)\n",
        "      sum+=a**exp\n",
        "  \n",
        "    #print(i,sum)\n",
        "    i=int(i)\n",
        "    sum=int(sum)\n",
        "    if i==sum:\n",
        "      list.append(i)\n",
        "  return list"
      ],
      "metadata": {
        "id": "l-px2N_CFukd"
      },
      "execution_count": null,
      "outputs": []
    },
    {
      "cell_type": "markdown",
      "source": [
        "Sum of odd numbers (7kyu)"
      ],
      "metadata": {
        "id": "2X4Cdse3Fvy-"
      }
    },
    {
      "cell_type": "code",
      "source": [
        "def row_sum_odd_numbers(n):\n",
        "  start_digit=(n*n)-(n-1)\n",
        "  sum=start_digit\n",
        "  if n == 1:\n",
        "    return 1\n",
        "  else:\n",
        "    for i in range(0,n-1):\n",
        "      start_digit=start_digit+2\n",
        "      sum=sum+start_digit\n",
        "  return sum"
      ],
      "metadata": {
        "id": "0IqBAkPVF2Fl"
      },
      "execution_count": null,
      "outputs": []
    },
    {
      "cell_type": "markdown",
      "source": [
        "Printer Errors (7kyu)"
      ],
      "metadata": {
        "id": "S40gHtL-F5zi"
      }
    },
    {
      "cell_type": "code",
      "source": [
        "def printer_error(s):\n",
        "  a=4;b=4;i=1;h=1;j=3;m=1\n",
        "  total_count=a+b+i+h+j+m\n",
        "  string_count=len(s)\n",
        "  extra_print=string_count-total_count\n",
        "  count=0\n",
        "  for i in range(0,len(s)):\n",
        "    if s[i] not in ('a','b','c','d','e','f','g','h','i','j','k','l','m'):\n",
        "        count+=1\n",
        "  return(\"{}/{}\".format(count,string_count))"
      ],
      "metadata": {
        "id": "yqkTnAKxF--m"
      },
      "execution_count": null,
      "outputs": []
    },
    {
      "cell_type": "markdown",
      "source": [
        "Counting Valleys (7kyu)"
      ],
      "metadata": {
        "id": "4nk3-q1ZGBiX"
      }
    },
    {
      "cell_type": "code",
      "source": [
        "def counting_valleys(s): \n",
        "  passcount=0\n",
        "  level=0\n",
        "  entry=False\n",
        "  for i in range(0,len(s)):\n",
        "    if s[i] == 'D':\n",
        "      if level==0:\n",
        "        entry= True\n",
        "      level-=1\n",
        "    elif s[i] == 'U':\n",
        "      level+=1\n",
        "      if level==0 and entry:\n",
        "        entry=False\n",
        "        passcount+=1\n",
        "    else:\n",
        "      continue\n",
        "  return passcount"
      ],
      "metadata": {
        "id": "k3NHRSanGDNp"
      },
      "execution_count": null,
      "outputs": []
    },
    {
      "cell_type": "markdown",
      "source": [
        "Delete occurrences of an element if it occurs more than n times (6kyu)"
      ],
      "metadata": {
        "id": "ODjKs2m4P0XE"
      }
    },
    {
      "cell_type": "code",
      "source": [
        "def delete_nth(order, max_e):\n",
        "    d = {}\n",
        "    res = []\n",
        "    for item in order:\n",
        "      n = d.get(item, 0)\n",
        "      if n < max_e:\n",
        "        res.append(item)\n",
        "        d[item] = n+1\n",
        "    return res"
      ],
      "metadata": {
        "id": "l8jpkXE9P0xS"
      },
      "execution_count": null,
      "outputs": []
    },
    {
      "cell_type": "markdown",
      "source": [
        "Playing with digits (6kyu)"
      ],
      "metadata": {
        "id": "ZZ4eedAWQiIn"
      }
    },
    {
      "cell_type": "code",
      "source": [
        "def dig_pow(n, p):\n",
        "    digits = [int(d) for d in str(n)]\n",
        "    sum = 0\n",
        "    for i, d in enumerate(digits):\n",
        "        sum += d ** (p+i)\n",
        "    if sum % n == 0:\n",
        "        return sum / n\n",
        "    else:\n",
        "        return -1"
      ],
      "metadata": {
        "id": "yrr-E_42QioZ"
      },
      "execution_count": null,
      "outputs": []
    },
    {
      "cell_type": "markdown",
      "source": [
        "Tortoise racing (6kyu)"
      ],
      "metadata": {
        "id": "4pEtqU5ldEk4"
      }
    },
    {
      "cell_type": "code",
      "source": [
        "def race(v1, v2, g):\n",
        "    if v2 <= v1:\n",
        "        return None\n",
        "    total = g / (v2 - v1)\n",
        "    return [int(total), int(total * 60) % 60, int(total * 3600) % 60]"
      ],
      "metadata": {
        "id": "qUzlhsbddDwP"
      },
      "execution_count": null,
      "outputs": []
    },
    {
      "cell_type": "markdown",
      "source": [
        "Equal Sides Of An Array (6kyu)"
      ],
      "metadata": {
        "id": "EF_iCeuCZFow"
      }
    },
    {
      "cell_type": "code",
      "source": [
        "def find_even_index(arr):\n",
        "    for i in range(len(arr)):\n",
        "        if sum(arr[i:]) == sum(arr[:i+1]):\n",
        "           return i\n",
        "    return -1"
      ],
      "metadata": {
        "id": "MsmlFLrqZGAS"
      },
      "execution_count": null,
      "outputs": []
    },
    {
      "cell_type": "markdown",
      "source": [
        "Unique In Order (6kyu)"
      ],
      "metadata": {
        "id": "A_ztl95bbtTA"
      }
    },
    {
      "cell_type": "code",
      "source": [
        "def unique_in_order(iterable):\n",
        "    k = []\n",
        "    for i in iterable:\n",
        "        if k == []:\n",
        "            k.append(i)\n",
        "        elif k[-1] != i:\n",
        "            k.append(i)\n",
        "    return k"
      ],
      "metadata": {
        "id": "aeQ_8Fwdbt0n"
      },
      "execution_count": null,
      "outputs": []
    },
    {
      "cell_type": "markdown",
      "source": [
        "Find the unique number (6kyu)"
      ],
      "metadata": {
        "id": "QBSsAbFHbQcC"
      }
    },
    {
      "cell_type": "code",
      "source": [
        "def find_uniq(arr):\n",
        "  for i in set(arr):\n",
        "    if arr.count(i) == 1: return i"
      ],
      "metadata": {
        "id": "ryJ1OJjYbQz4"
      },
      "execution_count": null,
      "outputs": []
    },
    {
      "cell_type": "markdown",
      "source": [
        "Take a Ten Minutes Walk (6kyu)"
      ],
      "metadata": {
        "id": "5ZAS7zVDaFtd"
      }
    },
    {
      "cell_type": "code",
      "source": [
        "def isValidWalk(walk):\n",
        "    if (walk.count('n') == walk.count('s') and \n",
        "        walk.count('e') == walk.count('w') and\n",
        "        len(walk) == 10):\n",
        "            return True\n",
        "    return False"
      ],
      "metadata": {
        "id": "lqoJnWebaGNm"
      },
      "execution_count": null,
      "outputs": []
    },
    {
      "cell_type": "markdown",
      "source": [
        "Your order, please (6kyu)"
      ],
      "metadata": {
        "id": "yc7DE0_7UIHg"
      }
    },
    {
      "cell_type": "code",
      "source": [
        "def order(s):\n",
        "    lst = []\n",
        "    for i in range(1,10):\n",
        "        for j in list(s.split()):\n",
        "            if str(i) in j:\n",
        "               lst.append(j)\n",
        "    return \" \".join(lst)"
      ],
      "metadata": {
        "id": "Q0thfMKXUIjr"
      },
      "execution_count": null,
      "outputs": []
    },
    {
      "cell_type": "markdown",
      "source": [
        "Build a pile of Cubes (6kyu)"
      ],
      "metadata": {
        "id": "E3JGqgFKVvfH"
      }
    },
    {
      "cell_type": "code",
      "source": [
        "def find_nb(m):\n",
        "    n = 0\n",
        "    while (m > 0):\n",
        "        n += 1\n",
        "        m -= n**3\n",
        "    return n if m == 0 else -1"
      ],
      "metadata": {
        "id": "9my5tXKFVv2r"
      },
      "execution_count": null,
      "outputs": []
    },
    {
      "cell_type": "markdown",
      "source": [
        "Detect Pangram (6kyu)"
      ],
      "metadata": {
        "id": "t65msA9hV7D2"
      }
    },
    {
      "cell_type": "code",
      "source": [
        "import string\n",
        "def is_pangram(string):\n",
        "    alphabet = 'abcdefghijklmnopqrstuvwhyz'   \n",
        "    for letter in alphabet:\n",
        "        if letter not in string.lower():\n",
        "            return False\n",
        "    return True"
      ],
      "metadata": {
        "id": "J3vsrJk9V6o7"
      },
      "execution_count": null,
      "outputs": []
    },
    {
      "cell_type": "markdown",
      "source": [
        "Number of trailing zeros of N! (5kyu)"
      ],
      "metadata": {
        "id": "pvv46rhCak8I"
      }
    },
    {
      "cell_type": "code",
      "source": [
        "def zeros(n):\n",
        "    result = 0\n",
        "    while n != 0:\n",
        "        result += n / 5\n",
        "        n = n / 5\n",
        "    return result"
      ],
      "metadata": {
        "id": "O494S4OqalYg"
      },
      "execution_count": null,
      "outputs": []
    },
    {
      "cell_type": "markdown",
      "source": [
        "Josephus Survivor (5kyu)"
      ],
      "metadata": {
        "id": "DKbtADaCRmuI"
      }
    },
    {
      "cell_type": "code",
      "source": [
        "def josephus_survivor(n,k):\n",
        "    arr = [i + 1 for i in range(n)]\n",
        "    if len(arr) == 1:\n",
        "        return arr[0]\n",
        "    cur_pos = k - 1\n",
        "    while len(arr) != 1:\n",
        "        while cur_pos >= len(arr):\n",
        "            cur_pos = cur_pos - len(arr)\n",
        "        arr.pop(cur_pos)\n",
        "        cur_pos += k - 1\n",
        "    return arr[0]\n"
      ],
      "metadata": {
        "id": "U-DCInfqRnzW"
      },
      "execution_count": null,
      "outputs": []
    },
    {
      "cell_type": "markdown",
      "source": [
        "Best travel (5kyu)"
      ],
      "metadata": {
        "id": "rwYz2zMgTfLS"
      }
    },
    {
      "cell_type": "code",
      "source": [
        "from itertools import combinations\n",
        "def choose_best_sum(t, k, ls):\n",
        "    distance = 0\n",
        "    for x in combinations(ls, k):\n",
        "        if sum(x) <= t:\n",
        "            distance = max(distance, sum(x))\n",
        "    if distance == 0:\n",
        "        return None\n",
        "    return distance"
      ],
      "metadata": {
        "id": "akytEwuwTfh4"
      },
      "execution_count": null,
      "outputs": []
    },
    {
      "cell_type": "markdown",
      "source": [
        "Extract the domain name from a URL (5kyu)"
      ],
      "metadata": {
        "id": "b8ahwDW-VNBe"
      }
    },
    {
      "cell_type": "code",
      "source": [
        "def domain_name(url):\n",
        "    if 'www.' in url:\n",
        "        x = url.split('www.')\n",
        "        url = x[1]\n",
        "    if '://' in url:\n",
        "        x = url.split('://')\n",
        "        url = x[1]\n",
        "    if '.' in url:\n",
        "        x = url.split('.')\n",
        "        x = x[0]\n",
        "    return x"
      ],
      "metadata": {
        "id": "zk1XxEYRVNZ6"
      },
      "execution_count": null,
      "outputs": []
    },
    {
      "cell_type": "markdown",
      "source": [
        "RGB To Hex Conversion (5kyu)"
      ],
      "metadata": {
        "id": "YL2PsqK7YUKq"
      }
    },
    {
      "cell_type": "code",
      "source": [
        "def rgb(r, g, b):\n",
        "    def convert(x):\n",
        "        if x < 0:\n",
        "            x = 0\n",
        "        if x >= 256:\n",
        "            x = 255\n",
        "        return '{0:02X}'.format(x)\n",
        "    return ''.join(convert(x) for x in (r, g, b))"
      ],
      "metadata": {
        "id": "u-fTHzfKYUsN"
      },
      "execution_count": null,
      "outputs": []
    }
  ],
  "metadata": {
    "colab": {
      "provenance": []
    },
    "kernelspec": {
      "display_name": "Python 3",
      "name": "python3"
    },
    "language_info": {
      "name": "python"
    }
  },
  "nbformat": 4,
  "nbformat_minor": 0
}